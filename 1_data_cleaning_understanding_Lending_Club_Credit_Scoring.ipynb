{
  "nbformat": 4,
  "nbformat_minor": 0,
  "metadata": {
    "colab": {
      "provenance": [],
      "authorship_tag": "ABX9TyNXETw49j6eb5EFmDovioQd",
      "include_colab_link": true
    },
    "kernelspec": {
      "name": "python3",
      "display_name": "Python 3"
    },
    "language_info": {
      "name": "python"
    }
  },
  "cells": [
    {
      "cell_type": "markdown",
      "metadata": {
        "id": "view-in-github",
        "colab_type": "text"
      },
      "source": [
        "<a href=\"https://colab.research.google.com/github/awildt01/Airbnb_Berlin-/blob/main/1_data_cleaning_understanding_Lending_Club_Credit_Scoring.ipynb\" target=\"_parent\"><img src=\"https://colab.research.google.com/assets/colab-badge.svg\" alt=\"Open In Colab\"/></a>"
      ]
    },
    {
      "cell_type": "markdown",
      "source": [
        "https://github.com/allmeidaapedro/Lending-Club-Credit-Scoring"
      ],
      "metadata": {
        "id": "Jy395PagXdw9"
      }
    },
    {
      "cell_type": "markdown",
      "source": [
        "# Lending Club Kreditrisikomodellierung\n",
        "\n",
        "- In diesem Projekt werde ich drei **Machine Learning-Modelle** entwickeln, um die drei Komponenten des erwarteten Verlusts im Kontext der Kreditrisikomodellierung beim Lending Club (einem Peer-to-Peer-Kreditunternehmen) vorherzusagen: Ausfallwahrscheinlichkeit **(Probability of Default, PD)**, Kreditauslastung bei Ausfall **(Exposure at Default, EAD)** und Verlustquote bei Ausfall **(Loss Given Default, LGD)**. Der erwartete Verlust berechnet sich als Produkt dieser Elemente: **Erwarteter Verlust (EL) = PD * EAD * LGD.**\n",
        "\n",
        "- Diese Modelle werden verwendet, um eine Kreditrichtlinie festzulegen und zu entscheiden, ob neuen Antragstellern basierend auf ihren Kreditbewertungen und den erwarteten Verlusten ein Kredit gewährt wird (Antragsmodell). Durch die Schätzung des **erwarteten Verlusts (EL)** für jedes Darlehen kann der Lending Club außerdem den notwendigen Kapitalbestand bewerten, um sich gegen Zahlungsausfälle abzusichern.\n",
        "\n",
        "- **Das PD-Modell**ist ein unausgeglichenes binäres Klassifikationsproblem, bei dem das Ziel 1 für Nichtausfall und 0 für Ausfall (Minderheitenklasse) ist. Hierfür wird ein logistisches Regressionsmodell entwickelt.\n",
        "\n",
        "- **Das LGD- und EAD-Modell** stellt ein Beta-Regressionsproblem dar, d. h. eine Regressionsaufgabe, bei der die abhängigen Variablen einer Beta-Verteilung folgen: **die Rückgewinnungsrate und der Kreditumwandlungsfaktor**.\n",
        "\n",
        "Die Lösungsstrategie basiert auf dem **CRISP-DM-Framework:**\n",
        "\n",
        "1.  Geschäftliches Verständnis\n",
        "\n",
        "2. Datenverständnis\n",
        "\n",
        "3. Datenvorbereitung\n",
        "\n",
        "4. Modellierung\n",
        "\n",
        "5. Validierung\n",
        "\n",
        "**Einsatz**\n",
        "\n",
        "Im Folgenden werde ich Informationen über das Unternehmen, das **Geschäftsproblem, die Projektziele** und -vorteile sowie einige wichtige Konzepte vorstellen, die für das Verständnis von Kreditrisiken relevant sind."
      ],
      "metadata": {
        "id": "PcxLM5eSSEjP"
      }
    },
    {
      "cell_type": "markdown",
      "source": [
        "##  Lending Club\n",
        "- Was ist der Lending Club?\n",
        "\n",
        "    - LendingClub ist eine Peer-to-Peer-Kreditplattform, die es Privatpersonen ermöglicht, direkt untereinander Geld zu verleihen und zu leihen – ohne traditionelle Finanzinstitute wie Banken. Die Plattform fungiert als Online-Marktplatz, der Kreditnehmer mit Investoren verbindet, die bereit sind, Kredite zu finanzieren."
      ],
      "metadata": {
        "id": "SH3d4YKZ7FCP"
      }
    },
    {
      "cell_type": "markdown",
      "source": [
        "## Geschäftsproblem: Verwaltung von Ausfallrisiken und Optimierung der Renditen"
      ],
      "metadata": {
        "id": "d_yHhxhn_4-2"
      }
    },
    {
      "cell_type": "markdown",
      "source": [
        "**- Was ist das Geschäftsproblem?**\n",
        "\n",
        "   - LendingClub steht vor der Herausforderung, Ausfallrisiken effektiv zu managen und gleichzeitig die Renditen für Investoren zu optimieren. Die Plattform ermöglicht Peer-to-Peer-Kredite, indem sie Kreditnehmer mit Investoren verbindet. Dabei ist sie auf präzise Risikobewertungen angewiesen, um ein nachhaltiges und profitables Kreditgeschäft aufrechtzuerhalten.\n",
        "\n",
        "- Der CEO möchte daher Erkenntnisse darüber gewinnen, welche Faktoren mit dem Kreditrisiko zusammenhängen, und Modelle entwickeln, die die Wahrscheinlichkeit eines Zahlungsausfalls für neue Antragsteller sowie mögliche Verluste aus Krediten vorhersagen. Diese Modelle sollen dabei helfen, eine Kreditrichtlinie festzulegen, die entscheidet, wann ein Kredit genehmigt oder abgelehnt wird.\n",
        "\n",
        "- Eine wichtige Anforderung des CEOs ist, dass die Modelle leicht verständlich sein müssen. Da unser Unternehmen im Internet tätig ist, sind Transparenz und Kundenzufriedenheit entscheidend. Deshalb müssen wir erklären können, warum ein Kredit genehmigt oder abgelehnt wird."
      ],
      "metadata": {
        "id": "Lli5Mfzz7lKW"
      }
    },
    {
      "cell_type": "markdown",
      "source": [
        "**- Welche Ziele und Vorteile hat das Projekt?**\n",
        "\n",
        "1. Identifizierung der Faktoren, die mit dem Kreditrisiko zusammenhängen, in Form von geschäftlichen Erkenntnissen.\n",
        "\n",
        "2. Entwicklung eines präzisen **Probability of Default (PD) Modells** einschließlich einer Scorecard. Dies ermöglicht es LendingClub, zu entscheiden, ob ein Kredit an einen neuen Antragsteller vergeben wird (Antragsmodell) – basierend auf Kreditbewertungen.\n",
        "\n",
        "3. Entwicklung von **Exposure at Default (EAD)und Loss Given Default (LGD Modellen, um den erwarteten Verlust (Expected Loss, EL)** für Kredite zu schätzen. Dadurch kann LendingClub genügend Kapital vorhalten, um sich gegen Zahlungsausfälle abzusichern.\n",
        "\n",
        "4. Verbesserung des Risikomanagements und Optimierung der Renditen, indem eine Kreditrichtlinie auf Basis der Ergebnisse der drei Modelle sowie des erwarteten Verlusts etabliert wird – mit dem Ziel, ein Gleichgewicht zwischen Risiko und **Kapitalrendite (ROI)** zu finden.\n",
        "\n",
        "5. Anwendung von Modellüberwachung und -wartung, um sicherzustellen, dass die entwickelten Modelle auch in Zukunft zuverlässig funktionieren. Falls sich die Merkmale der Kreditnehmer stark verändern, können wir so frühzeitig erkennen, ob eine Neuentwicklung der Modelle erforderlich ist."
      ],
      "metadata": {
        "id": "j7_yPtbz8Ajt"
      }
    },
    {
      "cell_type": "markdown",
      "source": [
        "## Konzepte des Kreditrisikomodells: Der Kontext des Problems"
      ],
      "metadata": {
        "id": "gBo7C3g5AH-G"
      }
    },
    {
      "cell_type": "markdown",
      "source": [
        "- **Finanzinstitute,** wie LendingClub und andere Online-Kreditplattformen, **verdienen Geld, indem sie Kredite an Privatpersonen und Unternehmen vergeben.** Dabei erheben sie Zinsen, die eine wesentliche Quelle ihres Profits darstellen. Ein gutes Kreditrisikomanagement ist entscheidend für diese Institute, da es sicherstellt, dass Kreditnehmer ihre Kredite pünktlich zurückzahlen und Verluste vermieden werden.\n",
        "\n",
        "- **Kreditrisiko** bezeichnet die Möglichkeit, dass ein Kreditnehmer seinen finanziellen Verpflichtungen nicht nachkommt, was zu einem Verlust für den Kreditgeber führt. Wenn ein Kreditnehmer die vereinbarten Bedingungen nicht einhält, spricht man von einem \"Zahlungsausfall\" (Default), der finanzielle Verluste für den Kreditgeber nach sich ziehen kann. Die Definition von Zahlungsausfall hängt von einem bestimmten Zeithorizont ab. Beispielsweise gilt ein Kreditnehmer als in Zahlungsverzug, wenn er seine Schulden 90 Tage nach Fälligkeit nicht beglichen hat.\n",
        "\n",
        "- **Im Kreditmarkt** gibt es wichtige **Regulierungen**, die Fairness und Transparenz gewährleisten. **Basel III** ist eine dieser Vorschriften und stellt sicher, dass Banken ausreichend Kapital halten (Kapitalanforderungen) und **Richtlinien zur Bewertung** von Kreditrisiken befolgen. Der Internal **Rating-Based Approach (IRB-A) ermöglicht** es Banken, Kreditrisiken anhand von Konzepten wie **Probability of Default (PD), Exposure at Default (EAD) und Loss Given Default (LGD) selbst zu bewerten**. Eine weitere wichtige Regelung ist der International **Financial Reporting Standard 9 (IFRS 9)**, der Standards zur Bewertung finanzieller Vermögenswerte definiert. **IFRS 9 ist besonders, weil er das Ausfallrisiko eines Kredits über dessen gesamte Laufzeit betrachtet, während Basel III es nur für ein Jahr bewertet**. Diese Vorschriften helfen Banken, ausreichend Kapital zu halten, Risiken effektiv zu managen und den Kreditmarkt stabil und vertrauenswürdig zu gestalten.\n",
        "\n",
        "- Der **\"erwartete Verlust (Expected Loss, EL)\"** ist der durchschnittlich geschätzte Verlust, den ein Kreditgeber durch Kreditausfälle erwarten kann. Er setzt sich aus drei Faktoren zusammen:\n",
        "\n",
        "  **1. Probability of Default (PD)**– die Wahrscheinlichkeit, dass ein Kreditnehmer in Verzug gerät.\n",
        "\n",
        "  **2. Loss Given Default (LGD)** – der Anteil der offenen Kreditsumme, der bei einem Zahlungsausfall nicht wiederhergestellt werden kann.\n",
        "\n",
        "  **3. Exposure at Default (EAD)** – der potenzielle Verlust zum Zeitpunkt des Zahlungsausfalls, basierend auf der offenen Kreditsumme und weiteren Faktoren.\n",
        "\n",
        "- LendingClub, als Peer-to-Peer-Kreditplattform, nutzt ein \"PD-Modell / Kredit-Scoring-Modell\", um die Kreditwürdigkeit von Kreditnehmern anhand ihrer Kredit-Scores zu bewerten. Dies hilft dabei, die Wahrscheinlichkeit einer Rückzahlung abzuschätzen und zu entscheiden, ob ein Kredit genehmigt oder abgelehnt wird. Das für jeden Kredit notwendige Kapital zur Absicherung gegen Zahlungsausfälle wird durch die EAD- und LGD-Modelle berechnet, um den erwarteten Verlust (EL) zu schätzen und das Risiko im Kreditgeschäft zu minimieren.\n",
        "\n",
        "- Bei der Erstellung eines Kredit-Scoring-Modells, das die Kreditwürdigkeit für die Kreditvergabe bewertet, basiert die Analyse auf den zum Zeitpunkt der Kreditanfrage verfügbaren Daten. Dies wird als \"Antragsmodell\" (Application Model) bezeichnet und unterscheidet sich von einem **\"Verhaltensmodell\" (Behavior Model). Das Modell, das ich hier entwickle, ist ein Application Model**.\n",
        "\n",
        "- Eine \"Kreditrichtlinie\" ist eine Sammlung von Richtlinien, die Finanzinstitute zur Bewertung und Verwaltung von Kreditrisiken verwenden. Dabei werden Faktoren wie die erwartete **Kapitalrendite (ROI)** für jede Kreditanfrage, Kredit-Scores, Risikoklassen, erwartete Verluste und weitere relevante Parameter berücksichtigt.\n",
        "\n",
        "- **\"Return on Investment (ROI)\"** ist eine zentrale Kennzahl zur Bewertung der Rentabilität eines Kredits. Die Balance zwischen ROI und Risiko ist essenziell für eine effektive Verwaltung der Kreditrichtlinien. Kredite mit höherem Risiko können zwar potenziell höhere Renditen bringen, bergen aber auch ein größeres Ausfallrisiko."
      ],
      "metadata": {
        "id": "iWCXbgEj9tl-"
      }
    },
    {
      "cell_type": "markdown",
      "source": [
        "In diesem Notebook beabsichtige ich, eine erste Datenexploration und Datenbereinigung durchzuführen. Dies ist ein notwendiger Schritt, um die Daten zu analysieren und anschließend robuste Modelle zu erstellen. Diese Phase umfasst die ersten beiden Schritte des CRISP-DM-Frameworks.\n",
        "\n",
        "Das Ziel ist es:\n",
        "\n",
        "- Merkmale in die richtigen **Datentypen zu konvertieren**, um eine korrekte Verarbeitung und Analyse sicherzustellen.\n",
        "\n",
        "- Nicht nützliche Variablen zu identifizieren und zu entfernen, um die Datenmenge zu reduzieren und die Rechenleistung zu optimieren.\n",
        "\n",
        "- **Fehlende Werte, Duplikate und Ausreißer** zu erkennen und zu behandeln, um Verzerrungen und Fehler in der Analyse zu vermeiden.\n",
        "\n",
        "- **Neue relevante Variablen zu erstellen**, die zusätzliche Informationen liefern und die Modellleistung verbessern können.\n",
        "\n",
        "- **Die Zielvariablen zu definieren**, um eine klare Grundlage für die Modellierung zu schaffen.\n",
        "\n",
        "- Ein speichereffizientes, **bereinigtes Datenset** zu erhalten, das eine schnellere und effizientere Analyse ermöglicht.\n",
        "\n",
        "Abschließend wird die Begründung hinter jeder getroffenen Entscheidung im Detail erklärt."
      ],
      "metadata": {
        "id": "FwplPhAuA9a2"
      }
    }
  ]
}